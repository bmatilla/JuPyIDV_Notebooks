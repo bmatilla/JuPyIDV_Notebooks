{
 "cells": [
  {
   "attachments": {},
   "cell_type": "markdown",
   "metadata": {},
   "source": [
    "<a name=\"top\"></a>\n",
    "<div style=\"width:1000 px\">\n",
    "\n",
    "<div style=\"float:right; width:98 px; height:98px;\">\n",
    "<img src=\"http://moziru.com/images/lightening-clipart-storm-cloud-10.png\" alt=\"Thunderstorm\" style=\"height: 98px;\">\n",
    "</div>\n",
    "<h1>Case Study Template << (Name goes here)</h1>\n",
    "\n",
    "<div style=\"clear:both\"></div>\n",
    "</div>\n",
    "\n",
    "<hr style=\"height:2px;\">\n",
    "\n",
    "This notebook outlines a case study notebook \"template\" for use with the DRILSDOWN capabilities of Jupyter and the Integrated Data Viewer (IDV; from Unidata).\n",
    "\n",
    "To use this notebook, first install Anaconda (a Python and Jupyter distribution) to your machine, followed by the IDV. Next, execute <code>pip install drilsdown</code> in the Terminal to obtain the Python-DRILSDOWN magic commands which will allow you to make images and animations in a Notebook using the IDV.\n",
    "\n",
    "To make static images from the IDV interface, just execute the command <code>%make_image</code> which outputs the image in the IDV's current state. Likewise for movies/animations, it is <code>%make_movie</code>. For both instances, writing in a caption involves invoking <code>-caption</code> after the make command, and capturing the legend and the time bar is done by invoking <code>-capture</code>.\n",
    "\n",
    "More useful instructions and tips about the DRILSDOWN Jupyter-IDV notebooks can be found on Brian Mapes' Github page: https://github.com/brianmapes/EarthCube-DRILSDOWN, with frequent updates on new tricks and functionalities to make the experience more engaging and easier to navigate.\n",
    "\n",
    "<b>NOTE: The text in this box serves as a welcome introduction to how to use this notebook. This needn't be used in a real case study notebook. Just remove the text after the HTML code above.</b>\n",
    "\n",
    "### Sections\n",
    "1. <a href=\"#Introduction\">Introduction</a>\n",
    "1. <a href=\"#Rainfall\">Rainfall Comparisons</a>\n",
    "1. <a href=\"#Basics\">Basic Synoptic and Mesoscale Flows</a>\n",
    "1. <a href=\"#Moisture\">Moisture Advection</a>\n",
    "1. <a href=\"#Vertical\">Vertical Structures</a>\n",
    "1. <a href=\"#Summary\">Summary and Conclusions</a>"
   ]
  },
  {
   "cell_type": "markdown",
   "metadata": {},
   "source": [
    "First, let's load up the drilsdown extension:"
   ]
  },
  {
   "cell_type": "code",
   "execution_count": null,
   "metadata": {},
   "outputs": [],
   "source": [
    "%reload_ext drilsdown \n",
    "#If you lose the control panel below, switch 'reload_ext' to 'make_ui'. Otherwise, keep as 'reload_ext as \n",
    "#all other commands to create images and movies and loading bundles will still work even without control panel."
   ]
  },
  {
   "cell_type": "markdown",
   "metadata": {},
   "source": [
    "<a name=\"Introduction\"></a> \n",
    "# 1. Introduction\n",
    "\n",
    "This is the introduction section. Introduce the case study with relevant articles that pertain to the socioeconomic impacts."
   ]
  },
  {
   "cell_type": "markdown",
   "metadata": {},
   "source": [
    "Text goes here."
   ]
  },
  {
   "cell_type": "markdown",
   "metadata": {},
   "source": [
    "<hr style=\"height:2px;\">\n",
    "<a href=\"#top\">Top</a>\n",
    "<hr style=\"height:2px;\">"
   ]
  },
  {
   "cell_type": "markdown",
   "metadata": {},
   "source": [
    "<a name=\"Rainfall\"></a>\n",
    "# 2. Rainfall Characteristics\n",
    "\n",
    "This section highlights the different rainfall estimates from the 1-degree observational and reanalysis products. The key commands to launch the python script are below, and the command will output a 16-panel plot."
   ]
  },
  {
   "cell_type": "code",
   "execution_count": null,
   "metadata": {},
   "outputs": [],
   "source": [
    "%matplotlib inline\n",
    "import warnings; warnings.filterwarnings('ignore')\n",
    "%run NASANEWS_teleport.py -ds yyyy-mm-dd -de yyyy-mm-dd -bbox S N W E -case name\n",
    "\n",
    "#As an example:\n",
    "#%run NASANEWS_teleport.py -ds 2005-07-23 -de 2005-07-27 -bbox 11 21 68 78 -case Maharashtra_Jul2005_Flood"
   ]
  },
  {
   "cell_type": "markdown",
   "metadata": {},
   "source": [
    "Text goes here."
   ]
  },
  {
   "cell_type": "markdown",
   "metadata": {},
   "source": [
    "<hr style=\"height:2px;\">\n",
    "<a href=\"#top\">Top</a>\n",
    "<hr style=\"height:2px;\">"
   ]
  },
  {
   "cell_type": "markdown",
   "metadata": {},
   "source": [
    "<a name=\"Basics\"></a> \n",
    "# 3. Basic Synoptic and Mesoscale Flows\n",
    "\n",
    "This section is where you can start to describe the broader scale synoptic and mesoscale flows associated with a case. Using these <code>make_image</code> and <code>make_movie</code> commands, images and animations can be extracted from the IDV. For animations, the loops will be based on the length of the time driver."
   ]
  },
  {
   "cell_type": "code",
   "execution_count": null,
   "metadata": {
    "collapsed": true
   },
   "outputs": [],
   "source": [
    "%make_image -caption 'Place your caption here...' -capture legend"
   ]
  },
  {
   "cell_type": "code",
   "execution_count": null,
   "metadata": {
    "collapsed": true
   },
   "outputs": [],
   "source": [
    "%make_image -caption 'Place your caption here...' -capture legend"
   ]
  },
  {
   "cell_type": "code",
   "execution_count": null,
   "metadata": {
    "collapsed": true
   },
   "outputs": [],
   "source": [
    "%make_image -caption 'Place your caption here...' -capture legend"
   ]
  },
  {
   "cell_type": "code",
   "execution_count": null,
   "metadata": {
    "collapsed": true
   },
   "outputs": [],
   "source": [
    "%make_movie -caption 'Place your caption here...' -capture legend"
   ]
  },
  {
   "cell_type": "code",
   "execution_count": null,
   "metadata": {
    "collapsed": true
   },
   "outputs": [],
   "source": [
    "%make_movie -caption 'Place your caption here...' -capture legend"
   ]
  },
  {
   "cell_type": "code",
   "execution_count": null,
   "metadata": {
    "collapsed": true
   },
   "outputs": [],
   "source": [
    "%make_movie -caption 'Place your caption here...' -capture legend"
   ]
  },
  {
   "cell_type": "markdown",
   "metadata": {},
   "source": [
    "Text goes here."
   ]
  },
  {
   "cell_type": "markdown",
   "metadata": {},
   "source": [
    "<hr style=\"height:2px;\">\n",
    "<a href=\"#top\">Top</a>\n",
    "<hr style=\"height:2px;\">"
   ]
  },
  {
   "cell_type": "markdown",
   "metadata": {},
   "source": [
    "<a name=\"Moisture\"></a> \n",
    "# 4. Moisture Advection\n",
    "\n",
    "This section should focus on the moisture component of the case study, one of the three principal components to sustained convection. As before, use the <code>make_image</code> and <code>make_movie</code> commands to select your images and loops."
   ]
  },
  {
   "cell_type": "code",
   "execution_count": null,
   "metadata": {
    "collapsed": true
   },
   "outputs": [],
   "source": [
    "%make_image -caption 'Place your caption here...' -capture legend"
   ]
  },
  {
   "cell_type": "code",
   "execution_count": null,
   "metadata": {
    "collapsed": true
   },
   "outputs": [],
   "source": [
    "%make_image -caption 'Place your caption here...' -capture legend"
   ]
  },
  {
   "cell_type": "code",
   "execution_count": null,
   "metadata": {
    "collapsed": true
   },
   "outputs": [],
   "source": [
    "%make_image -caption 'Place your caption here...' -capture legend"
   ]
  },
  {
   "cell_type": "code",
   "execution_count": null,
   "metadata": {
    "collapsed": true
   },
   "outputs": [],
   "source": [
    "%make_movie -caption 'Place your caption here...' -capture legend"
   ]
  },
  {
   "cell_type": "code",
   "execution_count": null,
   "metadata": {
    "collapsed": true
   },
   "outputs": [],
   "source": [
    "%make_movie -caption 'Place your caption here...' -capture legend"
   ]
  },
  {
   "cell_type": "code",
   "execution_count": null,
   "metadata": {
    "collapsed": true
   },
   "outputs": [],
   "source": [
    "%make_movie -caption 'Place your caption here...' -capture legend"
   ]
  },
  {
   "cell_type": "markdown",
   "metadata": {},
   "source": [
    "Text goes here."
   ]
  },
  {
   "cell_type": "markdown",
   "metadata": {},
   "source": [
    "<hr style=\"height:2px;\">\n",
    "<a href=\"#top\">Top</a>\n",
    "<hr style=\"height:2px;\">"
   ]
  },
  {
   "cell_type": "markdown",
   "metadata": {},
   "source": [
    "<a name=\"Vertical\"></a> \n",
    "# 5. Vertical Structures\n",
    "\n",
    "This section should focus on the vertical cross sections of the case study that are carefully placed over the heavy rain event for clarity of explanation. This section should help to explain the dynamics and lift aspect of the case study (<i>i.e. the other two ingredients along with lift</i>)."
   ]
  },
  {
   "cell_type": "code",
   "execution_count": null,
   "metadata": {
    "collapsed": true
   },
   "outputs": [],
   "source": [
    "%make_image -caption 'Place your caption here...' -capture legend"
   ]
  },
  {
   "cell_type": "code",
   "execution_count": null,
   "metadata": {
    "collapsed": true
   },
   "outputs": [],
   "source": [
    "%make_image -caption 'Place your caption here...' -capture legend"
   ]
  },
  {
   "cell_type": "code",
   "execution_count": null,
   "metadata": {
    "collapsed": true
   },
   "outputs": [],
   "source": [
    "%make_image -caption 'Place your caption here...' -capture legend"
   ]
  },
  {
   "cell_type": "code",
   "execution_count": null,
   "metadata": {
    "collapsed": true
   },
   "outputs": [],
   "source": [
    "%make_movie -caption 'Place your caption here...' -capture legend"
   ]
  },
  {
   "cell_type": "code",
   "execution_count": null,
   "metadata": {
    "collapsed": true
   },
   "outputs": [],
   "source": [
    "%make_movie -caption 'Place your caption here...' -capture legend"
   ]
  },
  {
   "cell_type": "code",
   "execution_count": null,
   "metadata": {
    "collapsed": true
   },
   "outputs": [],
   "source": [
    "%make_movie -caption 'Place your caption here...' -capture legend"
   ]
  },
  {
   "cell_type": "markdown",
   "metadata": {},
   "source": [
    "Text goes here."
   ]
  },
  {
   "cell_type": "markdown",
   "metadata": {},
   "source": [
    "<hr style=\"height:2px;\">\n",
    "<a href=\"#top\">Top</a>\n",
    "<hr style=\"height:2px;\">"
   ]
  },
  {
   "cell_type": "markdown",
   "metadata": {},
   "source": [
    "<a name=\"Summary\"></a> \n",
    "# 6. Summary and Conclusions\n",
    "\n",
    "Wrap up the case study in this section detailing the most important findings."
   ]
  },
  {
   "cell_type": "markdown",
   "metadata": {},
   "source": [
    "Text goes here."
   ]
  },
  {
   "cell_type": "markdown",
   "metadata": {},
   "source": [
    "<hr style=\"height:2px;\">\n",
    "<a href=\"#top\">Top</a>\n",
    "<hr style=\"height:2px;\">"
   ]
  }
 ],
 "metadata": {
  "kernelspec": {
   "display_name": "Python 3",
   "language": "python",
   "name": "python3"
  },
  "language_info": {
   "codemirror_mode": {
    "name": "ipython",
    "version": 3
   },
   "file_extension": ".py",
   "mimetype": "text/x-python",
   "name": "python",
   "nbconvert_exporter": "python",
   "pygments_lexer": "ipython3",
   "version": "3.6.3"
  }
 },
 "nbformat": 4,
 "nbformat_minor": 2
}
