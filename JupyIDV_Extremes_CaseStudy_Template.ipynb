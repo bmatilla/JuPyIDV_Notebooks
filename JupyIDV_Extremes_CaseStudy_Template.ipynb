{
 "cells": [
  {
   "cell_type": "markdown",
   "metadata": {},
   "source": [
    "# Case Study Template <-- (Name goes here)\n",
    "\n",
    "<a name=\"top\"></a>\n",
    "This notebook outlines a case study notebook \"template\" for use with the DRILSDOWN capabilities of Jupyter and the Integrated Data Viewer (IDV; from Unidata).\n",
    "\n",
    "To use this notebook, first install Anaconda (a Python and Jupyter distribution) to your machine, followed by the IDV. Next, execute <code> pip install drilsdown </code>in the Terminal to obtain the Python-DRILSDOWN magic commands which will allow you to make images and animations in a Notebook using the IDV.\n",
    "\n",
    "To make static images from the IDV interface, just execute the command <code> %make_image</code> which outputs the image in the IDV's current state. Likewise for movies/animations, it is <code> %make_movie</code>. For both instances, writing in a caption involves invoking <code> -caption</code> after the make command, and capturing the legend and the time bar is done by invoking <code> -capture</code>.\n",
    "\n",
    "More useful instructions and tips about the DRILSDOWN Jupyter-IDV notebooks can be found on Brian Mapes' Github page: https://github.com/brianmapes/EarthCube-DRILSDOWN\n",
    "\n",
    "NOTE: The text in this box serves as a welcome introduction to how to use this notebook. This needn't be used in a real case study notebook."
   ]
  },
  {
   "cell_type": "markdown",
   "metadata": {},
   "source": [
    "1. <a href=\"#Introduction\">Introduction</a>\n",
    "1. <a href=\"#Basic Synoptic and Mesoscale Flows\">Basic Synoptic and Mesoscale Flows</a>\n",
    "1. <a href=\"#Moisture Advection\">Moisture Advection</a>\n",
    "1. <a href=\"#Vertical Structures\">Vertical Structures</a>\n",
    "1. <a href=\"#Summary and Conclusions\">Summary and Conclusions</a>\n",
    "\n",
    "----"
   ]
  },
  {
   "cell_type": "markdown",
   "metadata": {},
   "source": [
    "First, let's load up the drilsdown extension:"
   ]
  },
  {
   "cell_type": "code",
   "execution_count": null,
   "metadata": {},
   "outputs": [],
   "source": [
    "%reload_ext drilsdown \n",
    "#If you lose the control panel below, switch 'reload_ext' to 'make_ui'. Otherwise, keep as 'reload_ext as \n",
    "#all other commands to create images and movies and loading bundles will still work even without control panel."
   ]
  },
  {
   "cell_type": "markdown",
   "metadata": {},
   "source": [
    "----"
   ]
  },
  {
   "cell_type": "markdown",
   "metadata": {},
   "source": [
    "<a name=\"Introduction\"></a> \n",
    "<div class=\"alert alert-info\">\n",
    "\n",
    "# 1. Introduction\n"
   ]
  },
  {
   "cell_type": "markdown",
   "metadata": {},
   "source": [
    "This is the introduction section. Introduce the case study with relevant articles that pertain to the socioeconomic impacts."
   ]
  },
  {
   "cell_type": "markdown",
   "metadata": {},
   "source": []
  },
  {
   "cell_type": "markdown",
   "metadata": {},
   "source": [
    "<hr style=\"height:2px;\">\n",
    "<a href=\"#top\">Top</a>\n",
    "<hr style=\"height:2px;\">"
   ]
  },
  {
   "cell_type": "markdown",
   "metadata": {},
   "source": [
    "<a name=\"Basic Synoptic and Mesoscale Flows\"></a> \n",
    "<div class=\"alert alert-info\">\n",
    "# 2. Basic Synoptic and Mesoscale Flows"
   ]
  },
  {
   "cell_type": "markdown",
   "metadata": {},
   "source": []
  },
  {
   "cell_type": "code",
   "execution_count": null,
   "metadata": {
    "collapsed": true
   },
   "outputs": [],
   "source": [
    "%make_image -caption 'Place your caption here...' -capture legend"
   ]
  },
  {
   "cell_type": "code",
   "execution_count": null,
   "metadata": {
    "collapsed": true
   },
   "outputs": [],
   "source": [
    "%make_image -caption 'Place your caption here...' -capture legend"
   ]
  },
  {
   "cell_type": "code",
   "execution_count": null,
   "metadata": {
    "collapsed": true
   },
   "outputs": [],
   "source": [
    "%make_image -caption 'Place your caption here...' -capture legend"
   ]
  },
  {
   "cell_type": "code",
   "execution_count": null,
   "metadata": {
    "collapsed": true
   },
   "outputs": [],
   "source": [
    "%make_movie -caption 'Place your caption here...' -capture legend"
   ]
  },
  {
   "cell_type": "code",
   "execution_count": null,
   "metadata": {
    "collapsed": true
   },
   "outputs": [],
   "source": [
    "%make_movie -caption 'Place your caption here...' -capture legend"
   ]
  },
  {
   "cell_type": "code",
   "execution_count": null,
   "metadata": {
    "collapsed": true
   },
   "outputs": [],
   "source": [
    "%make_movie -caption 'Place your caption here...' -capture legend"
   ]
  },
  {
   "cell_type": "markdown",
   "metadata": {},
   "source": []
  },
  {
   "cell_type": "markdown",
   "metadata": {},
   "source": [
    "<hr style=\"height:2px;\">\n",
    "<a href=\"#top\">Top</a>\n",
    "<hr style=\"height:2px;\">"
   ]
  },
  {
   "cell_type": "markdown",
   "metadata": {},
   "source": [
    "<a name=\"Moisture Advection\"></a> \n",
    "<div class=\"alert alert-info\">\n",
    "\n",
    "# 3. Moisture Advection"
   ]
  },
  {
   "cell_type": "markdown",
   "metadata": {},
   "source": []
  },
  {
   "cell_type": "code",
   "execution_count": null,
   "metadata": {
    "collapsed": true
   },
   "outputs": [],
   "source": [
    "%make_image -caption 'Place your caption here...' -capture legend"
   ]
  },
  {
   "cell_type": "code",
   "execution_count": null,
   "metadata": {
    "collapsed": true
   },
   "outputs": [],
   "source": [
    "%make_image -caption 'Place your caption here...' -capture legend"
   ]
  },
  {
   "cell_type": "code",
   "execution_count": null,
   "metadata": {
    "collapsed": true
   },
   "outputs": [],
   "source": [
    "%make_image -caption 'Place your caption here...' -capture legend"
   ]
  },
  {
   "cell_type": "code",
   "execution_count": null,
   "metadata": {
    "collapsed": true
   },
   "outputs": [],
   "source": [
    "%make_movie -caption 'Place your caption here...' -capture legend"
   ]
  },
  {
   "cell_type": "code",
   "execution_count": null,
   "metadata": {
    "collapsed": true
   },
   "outputs": [],
   "source": [
    "%make_movie -caption 'Place your caption here...' -capture legend"
   ]
  },
  {
   "cell_type": "code",
   "execution_count": null,
   "metadata": {
    "collapsed": true
   },
   "outputs": [],
   "source": [
    "%make_movie -caption 'Place your caption here...' -capture legend"
   ]
  },
  {
   "cell_type": "markdown",
   "metadata": {},
   "source": []
  },
  {
   "cell_type": "markdown",
   "metadata": {},
   "source": [
    "<hr style=\"height:2px;\">\n",
    "<a href=\"#top\">Top</a>\n",
    "<hr style=\"height:2px;\">"
   ]
  },
  {
   "cell_type": "markdown",
   "metadata": {},
   "source": [
    "<a name=\"Vertical Structures\"></a> \n",
    "<div class=\"alert alert-info\">\n",
    "\n",
    "# 4. Vertical Structures"
   ]
  },
  {
   "cell_type": "markdown",
   "metadata": {},
   "source": []
  },
  {
   "cell_type": "code",
   "execution_count": null,
   "metadata": {
    "collapsed": true
   },
   "outputs": [],
   "source": [
    "%make_image -caption 'Place your caption here...' -capture legend"
   ]
  },
  {
   "cell_type": "code",
   "execution_count": null,
   "metadata": {
    "collapsed": true
   },
   "outputs": [],
   "source": [
    "%make_image -caption 'Place your caption here...' -capture legend"
   ]
  },
  {
   "cell_type": "code",
   "execution_count": null,
   "metadata": {
    "collapsed": true
   },
   "outputs": [],
   "source": [
    "%make_image -caption 'Place your caption here...' -capture legend"
   ]
  },
  {
   "cell_type": "code",
   "execution_count": null,
   "metadata": {
    "collapsed": true
   },
   "outputs": [],
   "source": [
    "%make_movie -caption 'Place your caption here...' -capture legend"
   ]
  },
  {
   "cell_type": "code",
   "execution_count": null,
   "metadata": {
    "collapsed": true
   },
   "outputs": [],
   "source": [
    "%make_movie -caption 'Place your caption here...' -capture legend"
   ]
  },
  {
   "cell_type": "code",
   "execution_count": null,
   "metadata": {
    "collapsed": true
   },
   "outputs": [],
   "source": [
    "%make_movie -caption 'Place your caption here...' -capture legend"
   ]
  },
  {
   "cell_type": "markdown",
   "metadata": {},
   "source": []
  },
  {
   "cell_type": "markdown",
   "metadata": {},
   "source": [
    "<hr style=\"height:2px;\">\n",
    "<a href=\"#top\">Top</a>\n",
    "<hr style=\"height:2px;\">"
   ]
  },
  {
   "cell_type": "markdown",
   "metadata": {},
   "source": [
    "<a name=\"Summary and Conclusions\"></a> \n",
    "<div class=\"alert alert-info\">\n",
    "\n",
    "# 5. Summary and Conclusions"
   ]
  },
  {
   "cell_type": "markdown",
   "metadata": {},
   "source": []
  },
  {
   "cell_type": "markdown",
   "metadata": {},
   "source": [
    "<hr style=\"height:2px;\">\n",
    "<a href=\"#top\">Top</a>\n",
    "<hr style=\"height:2px;\">"
   ]
  }
 ],
 "metadata": {
  "kernelspec": {
   "display_name": "Python 3",
   "language": "python",
   "name": "python3"
  },
  "language_info": {
   "codemirror_mode": {
    "name": "ipython",
    "version": 3
   },
   "file_extension": ".py",
   "mimetype": "text/x-python",
   "name": "python",
   "nbconvert_exporter": "python",
   "pygments_lexer": "ipython3",
   "version": "3.6.3"
  }
 },
 "nbformat": 4,
 "nbformat_minor": 2
}
